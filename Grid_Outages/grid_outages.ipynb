{
 "cells": [
  {
   "cell_type": "code",
   "execution_count": 201,
   "metadata": {},
   "outputs": [],
   "source": [
    "import pandas as pd\n",
    "import numpy as np\n",
    "import matplotlib.pyplot as plt"
   ]
  },
  {
   "cell_type": "code",
   "execution_count": 202,
   "metadata": {},
   "outputs": [],
   "source": [
    "input = '../Data/Electric+Disturbance+Events/DOE_Electric_Disturbance_Events.xlsx'"
   ]
  },
  {
   "cell_type": "code",
   "execution_count": 203,
   "metadata": {},
   "outputs": [
    {
     "name": "stdout",
     "output_type": "stream",
     "text": [
      "<class 'pandas.core.frame.DataFrame'>\n",
      "RangeIndex: 2803 entries, 0 to 2802\n",
      "Data columns (total 11 columns):\n",
      " #   Column                        Non-Null Count  Dtype \n",
      "---  ------                        --------------  ----- \n",
      " 0   Date Event Began              2803 non-null   object\n",
      " 1   NERC Region                   2706 non-null   object\n",
      " 2   Area Affected                 2727 non-null   object\n",
      " 3   Event Type                    2726 non-null   object\n",
      " 4   Demand Loss (MW)              2488 non-null   object\n",
      " 5   Number of Customers Affected  2566 non-null   object\n",
      " 6   Date of Restoration           2726 non-null   object\n",
      " 7   Time Event Began              2600 non-null   object\n",
      " 8   Time of Restoration           2600 non-null   object\n",
      " 9   Month                         1702 non-null   object\n",
      " 10  Alert Criteria                1702 non-null   object\n",
      "dtypes: object(11)\n",
      "memory usage: 241.0+ KB\n"
     ]
    }
   ],
   "source": [
    "# Create an empty DataFrame to store the concatenated data\n",
    "df_big = pd.DataFrame()\n",
    "\n",
    "# Loop through sheets named by year (2010-2022)\n",
    "for year in range(2010, 2022):\n",
    "    # Construct the sheet name based on the year\n",
    "    sheet = str(year)\n",
    "\n",
    "    # Read the data from the current sheet\n",
    "    current_sheet = pd.read_excel(input, header=1, sheet_name=sheet)\n",
    "\n",
    "    if year == 2010:\n",
    "        current_sheet.rename(columns={'Date':'Date Event Began', 'Number of Customers Affected 1': 'Number of Customers Affected', \n",
    "                      'Restoration':'Date of Restoration', 'Type of Disturbance':'Event Type', 'Loss (megawatts)':'Demand Loss (MW)'}, inplace=True)\n",
    "        current_sheet.drop(columns='Time', inplace=True)\n",
    "    \n",
    "    current_sheet.dropna(subset=['Date Event Began'], inplace=True)\n",
    "\n",
    "    # Concatenate the data to the main DataFrame\n",
    "    df_big = pd.concat([df_big, current_sheet], ignore_index=True)\n",
    "\n",
    "df_big.info()"
   ]
  },
  {
   "cell_type": "code",
   "execution_count": 204,
   "metadata": {},
   "outputs": [
    {
     "name": "stdout",
     "output_type": "stream",
     "text": [
      "<class 'pandas.core.frame.DataFrame'>\n",
      "RangeIndex: 2803 entries, 0 to 2802\n",
      "Data columns (total 11 columns):\n",
      " #   Column                        Non-Null Count  Dtype         \n",
      "---  ------                        --------------  -----         \n",
      " 0   Date Event Began              2716 non-null   datetime64[ns]\n",
      " 1   NERC Region                   2706 non-null   object        \n",
      " 2   Area Affected                 2727 non-null   object        \n",
      " 3   Event Type                    2726 non-null   object        \n",
      " 4   Demand Loss (MW)              2488 non-null   object        \n",
      " 5   Number of Customers Affected  2566 non-null   object        \n",
      " 6   Date of Restoration           2444 non-null   datetime64[ns]\n",
      " 7   Time Event Began              2600 non-null   object        \n",
      " 8   Time of Restoration           2600 non-null   object        \n",
      " 9   Month                         1702 non-null   object        \n",
      " 10  Alert Criteria                1702 non-null   object        \n",
      "dtypes: datetime64[ns](2), object(9)\n",
      "memory usage: 241.0+ KB\n"
     ]
    }
   ],
   "source": [
    "df_big['Date Event Began'] = pd.to_datetime(df_big['Date Event Began'], errors='coerce')\n",
    "df_big['Date of Restoration'] = pd.to_datetime(df_big['Date of Restoration'], errors='coerce')\n",
    "df_big.info()"
   ]
  },
  {
   "cell_type": "code",
   "execution_count": 205,
   "metadata": {},
   "outputs": [],
   "source": [
    "import us\n",
    "\n",
    "states = [state.name for state in us.states.STATES_AND_TERRITORIES]\n",
    "abbreviations = [state.abbr for state in us.states.STATES_AND_TERRITORIES]\n",
    "all_states = states + abbreviations"
   ]
  },
  {
   "cell_type": "code",
   "execution_count": 206,
   "metadata": {},
   "outputs": [],
   "source": [
    "def extract_state_names(text, all_states):\n",
    "    for state in all_states:\n",
    "        if state in text:\n",
    "            return state"
   ]
  },
  {
   "cell_type": "code",
   "execution_count": 207,
   "metadata": {},
   "outputs": [
    {
     "name": "stdout",
     "output_type": "stream",
     "text": [
      "Unique data types in 'Area Affected': [<class 'float'> <class 'str'> <class 'int'>]\n"
     ]
    }
   ],
   "source": [
    "# Function to get the individual data types of elements in a column\n",
    "def get_element_data_type(element):\n",
    "    return type(element)\n",
    "\n",
    "# Apply the function to each element in the column\n",
    "individual_data_types = df_big['Area Affected'].apply(get_element_data_type)\n",
    "\n",
    "# Print the unique data types found in the column\n",
    "unique_data_types = individual_data_types.unique()\n",
    "print(f\"Unique data types in 'Area Affected': {unique_data_types}\")"
   ]
  },
  {
   "cell_type": "code",
   "execution_count": 208,
   "metadata": {},
   "outputs": [],
   "source": [
    "# Convert the entire column to string\n",
    "df_big['Area Affected'] = df_big['Area Affected'].astype(str)"
   ]
  },
  {
   "cell_type": "code",
   "execution_count": 209,
   "metadata": {},
   "outputs": [],
   "source": [
    "df_big['State Names'] = df_big['Area Affected'].apply(lambda x: extract_state_names(x, all_states))"
   ]
  },
  {
   "cell_type": "code",
   "execution_count": 210,
   "metadata": {},
   "outputs": [
    {
     "data": {
      "text/html": [
       "<div>\n",
       "<style scoped>\n",
       "    .dataframe tbody tr th:only-of-type {\n",
       "        vertical-align: middle;\n",
       "    }\n",
       "\n",
       "    .dataframe tbody tr th {\n",
       "        vertical-align: top;\n",
       "    }\n",
       "\n",
       "    .dataframe thead th {\n",
       "        text-align: right;\n",
       "    }\n",
       "</style>\n",
       "<table border=\"1\" class=\"dataframe\">\n",
       "  <thead>\n",
       "    <tr style=\"text-align: right;\">\n",
       "      <th></th>\n",
       "      <th>Date Event Began</th>\n",
       "      <th>NERC Region</th>\n",
       "      <th>Area Affected</th>\n",
       "      <th>Event Type</th>\n",
       "      <th>Demand Loss (MW)</th>\n",
       "      <th>Number of Customers Affected</th>\n",
       "      <th>Date of Restoration</th>\n",
       "      <th>Time Event Began</th>\n",
       "      <th>Time of Restoration</th>\n",
       "      <th>Month</th>\n",
       "      <th>Alert Criteria</th>\n",
       "      <th>State Names</th>\n",
       "    </tr>\n",
       "  </thead>\n",
       "  <tbody>\n",
       "    <tr>\n",
       "      <th>0</th>\n",
       "      <td>NaT</td>\n",
       "      <td>NaN</td>\n",
       "      <td>nan</td>\n",
       "      <td>NaN</td>\n",
       "      <td>NaN</td>\n",
       "      <td>NaN</td>\n",
       "      <td>NaT</td>\n",
       "      <td>NaN</td>\n",
       "      <td>NaN</td>\n",
       "      <td>NaN</td>\n",
       "      <td>NaN</td>\n",
       "      <td>None</td>\n",
       "    </tr>\n",
       "    <tr>\n",
       "      <th>1</th>\n",
       "      <td>2010-01-06</td>\n",
       "      <td>SERC</td>\n",
       "      <td>Southwest Louisiana</td>\n",
       "      <td>Made Public Appeals</td>\n",
       "      <td>NaN</td>\n",
       "      <td>NaN</td>\n",
       "      <td>2024-01-08 18:00:00</td>\n",
       "      <td>NaN</td>\n",
       "      <td>NaN</td>\n",
       "      <td>NaN</td>\n",
       "      <td>NaN</td>\n",
       "      <td>Louisiana</td>\n",
       "    </tr>\n",
       "    <tr>\n",
       "      <th>2</th>\n",
       "      <td>2010-01-11</td>\n",
       "      <td>FRCC/SERC</td>\n",
       "      <td>Northern and Central Florida</td>\n",
       "      <td>Interruptible Load Shed/Made Public Appeals</td>\n",
       "      <td>NaN</td>\n",
       "      <td>NaN</td>\n",
       "      <td>2024-01-11 09:57:00</td>\n",
       "      <td>NaN</td>\n",
       "      <td>NaN</td>\n",
       "      <td>NaN</td>\n",
       "      <td>NaN</td>\n",
       "      <td>Florida</td>\n",
       "    </tr>\n",
       "    <tr>\n",
       "      <th>3</th>\n",
       "      <td>2010-01-18</td>\n",
       "      <td>WECC</td>\n",
       "      <td>Northern and Central California</td>\n",
       "      <td>Severe Storm</td>\n",
       "      <td>290</td>\n",
       "      <td>1700000</td>\n",
       "      <td>2024-01-28 08:00:00</td>\n",
       "      <td>NaN</td>\n",
       "      <td>NaN</td>\n",
       "      <td>NaN</td>\n",
       "      <td>NaN</td>\n",
       "      <td>California</td>\n",
       "    </tr>\n",
       "    <tr>\n",
       "      <th>4</th>\n",
       "      <td>2010-01-19</td>\n",
       "      <td>WECC</td>\n",
       "      <td>San Francisco</td>\n",
       "      <td>Severe Storm</td>\n",
       "      <td>300</td>\n",
       "      <td>30000</td>\n",
       "      <td>2024-01-19 12:24:00</td>\n",
       "      <td>NaN</td>\n",
       "      <td>NaN</td>\n",
       "      <td>NaN</td>\n",
       "      <td>NaN</td>\n",
       "      <td>None</td>\n",
       "    </tr>\n",
       "  </tbody>\n",
       "</table>\n",
       "</div>"
      ],
      "text/plain": [
       "  Date Event Began NERC Region                    Area Affected  \\\n",
       "0              NaT         NaN                              nan   \n",
       "1       2010-01-06       SERC               Southwest Louisiana   \n",
       "2       2010-01-11  FRCC/SERC      Northern and Central Florida   \n",
       "3       2010-01-18       WECC   Northern and Central California   \n",
       "4       2010-01-19       WECC                     San Francisco   \n",
       "\n",
       "                                    Event Type Demand Loss (MW)  \\\n",
       "0                                          NaN              NaN   \n",
       "1                          Made Public Appeals              NaN   \n",
       "2  Interruptible Load Shed/Made Public Appeals              NaN   \n",
       "3                                 Severe Storm              290   \n",
       "4                                 Severe Storm              300   \n",
       "\n",
       "  Number of Customers Affected Date of Restoration Time Event Began  \\\n",
       "0                          NaN                 NaT              NaN   \n",
       "1                          NaN 2024-01-08 18:00:00              NaN   \n",
       "2                          NaN 2024-01-11 09:57:00              NaN   \n",
       "3                      1700000 2024-01-28 08:00:00              NaN   \n",
       "4                        30000 2024-01-19 12:24:00              NaN   \n",
       "\n",
       "  Time of Restoration Month Alert Criteria State Names  \n",
       "0                 NaN   NaN            NaN        None  \n",
       "1                 NaN   NaN            NaN   Louisiana  \n",
       "2                 NaN   NaN            NaN     Florida  \n",
       "3                 NaN   NaN            NaN  California  \n",
       "4                 NaN   NaN            NaN        None  "
      ]
     },
     "execution_count": 210,
     "metadata": {},
     "output_type": "execute_result"
    }
   ],
   "source": [
    "df_big.head()"
   ]
  },
  {
   "cell_type": "code",
   "execution_count": 211,
   "metadata": {},
   "outputs": [],
   "source": [
    "state_abbreviations = {state.abbr: state.name for state in us.states.STATES}"
   ]
  },
  {
   "cell_type": "code",
   "execution_count": 212,
   "metadata": {},
   "outputs": [],
   "source": [
    "def convert_abbreviations_to_full_names(state):\n",
    "    if state in state_abbreviations:\n",
    "        return state_abbreviations[state]\n",
    "    else:\n",
    "        return state"
   ]
  },
  {
   "cell_type": "code",
   "execution_count": 213,
   "metadata": {},
   "outputs": [],
   "source": [
    "df_big['State Names'] = df_big['State Names'].apply(convert_abbreviations_to_full_names)"
   ]
  },
  {
   "cell_type": "code",
   "execution_count": 214,
   "metadata": {},
   "outputs": [],
   "source": [
    "df_states = df_big\n"
   ]
  },
  {
   "cell_type": "code",
   "execution_count": 215,
   "metadata": {},
   "outputs": [
    {
     "data": {
      "text/html": [
       "<div>\n",
       "<style scoped>\n",
       "    .dataframe tbody tr th:only-of-type {\n",
       "        vertical-align: middle;\n",
       "    }\n",
       "\n",
       "    .dataframe tbody tr th {\n",
       "        vertical-align: top;\n",
       "    }\n",
       "\n",
       "    .dataframe thead th {\n",
       "        text-align: right;\n",
       "    }\n",
       "</style>\n",
       "<table border=\"1\" class=\"dataframe\">\n",
       "  <thead>\n",
       "    <tr style=\"text-align: right;\">\n",
       "      <th></th>\n",
       "      <th>Date Event Began</th>\n",
       "      <th>NERC Region</th>\n",
       "      <th>Area Affected</th>\n",
       "      <th>Event Type</th>\n",
       "      <th>Demand Loss (MW)</th>\n",
       "      <th>Number of Customers Affected</th>\n",
       "      <th>Date of Restoration</th>\n",
       "      <th>Time Event Began</th>\n",
       "      <th>Time of Restoration</th>\n",
       "      <th>Month</th>\n",
       "      <th>Alert Criteria</th>\n",
       "      <th>State Names</th>\n",
       "    </tr>\n",
       "  </thead>\n",
       "  <tbody>\n",
       "    <tr>\n",
       "      <th>0</th>\n",
       "      <td>NaT</td>\n",
       "      <td>NaN</td>\n",
       "      <td>nan</td>\n",
       "      <td>NaN</td>\n",
       "      <td>NaN</td>\n",
       "      <td>NaN</td>\n",
       "      <td>NaT</td>\n",
       "      <td>NaN</td>\n",
       "      <td>NaN</td>\n",
       "      <td>NaN</td>\n",
       "      <td>NaN</td>\n",
       "      <td>None</td>\n",
       "    </tr>\n",
       "    <tr>\n",
       "      <th>1</th>\n",
       "      <td>2010-01-06</td>\n",
       "      <td>SERC</td>\n",
       "      <td>Southwest Louisiana</td>\n",
       "      <td>Made Public Appeals</td>\n",
       "      <td>NaN</td>\n",
       "      <td>NaN</td>\n",
       "      <td>2024-01-08 18:00:00</td>\n",
       "      <td>NaN</td>\n",
       "      <td>NaN</td>\n",
       "      <td>NaN</td>\n",
       "      <td>NaN</td>\n",
       "      <td>Louisiana</td>\n",
       "    </tr>\n",
       "    <tr>\n",
       "      <th>2</th>\n",
       "      <td>2010-01-11</td>\n",
       "      <td>FRCC/SERC</td>\n",
       "      <td>Northern and Central Florida</td>\n",
       "      <td>Interruptible Load Shed/Made Public Appeals</td>\n",
       "      <td>NaN</td>\n",
       "      <td>NaN</td>\n",
       "      <td>2024-01-11 09:57:00</td>\n",
       "      <td>NaN</td>\n",
       "      <td>NaN</td>\n",
       "      <td>NaN</td>\n",
       "      <td>NaN</td>\n",
       "      <td>Florida</td>\n",
       "    </tr>\n",
       "    <tr>\n",
       "      <th>3</th>\n",
       "      <td>2010-01-18</td>\n",
       "      <td>WECC</td>\n",
       "      <td>Northern and Central California</td>\n",
       "      <td>Severe Storm</td>\n",
       "      <td>290</td>\n",
       "      <td>1700000</td>\n",
       "      <td>2024-01-28 08:00:00</td>\n",
       "      <td>NaN</td>\n",
       "      <td>NaN</td>\n",
       "      <td>NaN</td>\n",
       "      <td>NaN</td>\n",
       "      <td>California</td>\n",
       "    </tr>\n",
       "    <tr>\n",
       "      <th>4</th>\n",
       "      <td>2010-01-19</td>\n",
       "      <td>WECC</td>\n",
       "      <td>San Francisco</td>\n",
       "      <td>Severe Storm</td>\n",
       "      <td>300</td>\n",
       "      <td>30000</td>\n",
       "      <td>2024-01-19 12:24:00</td>\n",
       "      <td>NaN</td>\n",
       "      <td>NaN</td>\n",
       "      <td>NaN</td>\n",
       "      <td>NaN</td>\n",
       "      <td>None</td>\n",
       "    </tr>\n",
       "  </tbody>\n",
       "</table>\n",
       "</div>"
      ],
      "text/plain": [
       "  Date Event Began NERC Region                    Area Affected  \\\n",
       "0              NaT         NaN                              nan   \n",
       "1       2010-01-06       SERC               Southwest Louisiana   \n",
       "2       2010-01-11  FRCC/SERC      Northern and Central Florida   \n",
       "3       2010-01-18       WECC   Northern and Central California   \n",
       "4       2010-01-19       WECC                     San Francisco   \n",
       "\n",
       "                                    Event Type Demand Loss (MW)  \\\n",
       "0                                          NaN              NaN   \n",
       "1                          Made Public Appeals              NaN   \n",
       "2  Interruptible Load Shed/Made Public Appeals              NaN   \n",
       "3                                 Severe Storm              290   \n",
       "4                                 Severe Storm              300   \n",
       "\n",
       "  Number of Customers Affected Date of Restoration Time Event Began  \\\n",
       "0                          NaN                 NaT              NaN   \n",
       "1                          NaN 2024-01-08 18:00:00              NaN   \n",
       "2                          NaN 2024-01-11 09:57:00              NaN   \n",
       "3                      1700000 2024-01-28 08:00:00              NaN   \n",
       "4                        30000 2024-01-19 12:24:00              NaN   \n",
       "\n",
       "  Time of Restoration Month Alert Criteria State Names  \n",
       "0                 NaN   NaN            NaN        None  \n",
       "1                 NaN   NaN            NaN   Louisiana  \n",
       "2                 NaN   NaN            NaN     Florida  \n",
       "3                 NaN   NaN            NaN  California  \n",
       "4                 NaN   NaN            NaN        None  "
      ]
     },
     "execution_count": 215,
     "metadata": {},
     "output_type": "execute_result"
    }
   ],
   "source": [
    "df_big.head()"
   ]
  },
  {
   "cell_type": "code",
   "execution_count": 216,
   "metadata": {},
   "outputs": [
    {
     "data": {
      "text/plain": [
       "Severe Weather                                731\n",
       "Vandalism                                     390\n",
       "System Operations                             305\n",
       "Transmission Interruption                     139\n",
       "Suspicious Activity                           104\n",
       "Severe Weather - Thunderstorms                 97\n",
       "Suspected Physical Attack                      87\n",
       "Fuel Supply Deficiency                         46\n",
       "Severe Weather/Transmission Interruption       40\n",
       "Physical Attack - Vandalism                    40\n",
       "Sabotage                                       34\n",
       "Electrical System Separation (Islanding)       30\n",
       "Physical Attack                                30\n",
       "Actual Physical Attack                         30\n",
       "Winter Storm                                   28\n",
       "Public Appeal to Reduce Electricity Usage      27\n",
       "Physical Attack; Vandalism                     24\n",
       "Severe Weather - Hurricane Sandy               21\n",
       "Thunderstorms                                  17\n",
       "Suspected Physical Attack - Vandalism          16\n",
       "Severe Thunderstorms                           14\n",
       "Weather                                        14\n",
       "Severe Weather - Winter Storm                  13\n",
       "Suspected Cyber Attack                         13\n",
       "Public Appeal due to Severe Weather - Cold     12\n",
       "Fuel Supply Emergency - Coal                   11\n",
       "Severe Weather - Winter                        11\n",
       "Generation Inadequacy                          11\n",
       "Cyber Event                                    11\n",
       "Natural Disaster                               11\n",
       "Physcial Attack; Vandalism                     10\n",
       "Made Public Appeals                             9\n",
       "Severe Weather/Distribution Interruption        8\n",
       "Severe Weather - Snow/Ice                       8\n",
       "Other                                           7\n",
       "Severe Weather - Wind                           7\n",
       "Event Type                                      7\n",
       "Islanding                                       7\n",
       "Load Shed                                       7\n",
       "Major Storm                                     6\n",
       "Name: Event Type, dtype: int64"
      ]
     },
     "execution_count": 216,
     "metadata": {},
     "output_type": "execute_result"
    }
   ],
   "source": [
    "consolidated_data = df_big['Event Type'].value_counts()\n",
    "consolidated_data.head(40)"
   ]
  },
  {
   "cell_type": "code",
   "execution_count": 217,
   "metadata": {},
   "outputs": [],
   "source": [
    "df_states['Event Type'] = df_states['Event Type'].replace('Severe Storm', 'Severe Weather')"
   ]
  },
  {
   "cell_type": "code",
   "execution_count": 218,
   "metadata": {},
   "outputs": [],
   "source": [
    "df_states['Event Type'] = df_states['Event Type'].replace('Weather', 'Severe Weather')"
   ]
  },
  {
   "cell_type": "code",
   "execution_count": 219,
   "metadata": {},
   "outputs": [],
   "source": [
    "df_states['Event Type'] = df_states['Event Type'].replace('Major Storm', 'Severe Weather')"
   ]
  },
  {
   "cell_type": "code",
   "execution_count": 220,
   "metadata": {},
   "outputs": [],
   "source": [
    "df_states['Event Type'] = df_states['Event Type'].replace('Severe Weather - Snow/Ice', 'Winter Storm')"
   ]
  },
  {
   "cell_type": "code",
   "execution_count": 221,
   "metadata": {},
   "outputs": [],
   "source": [
    "df_states['Event Type'] = df_states['Event Type'].replace('Ice Storm', 'Winter Storm')"
   ]
  },
  {
   "cell_type": "code",
   "execution_count": 222,
   "metadata": {},
   "outputs": [],
   "source": [
    "df_states['Event Type'] = df_states['Event Type'].replace('Severe Weather - Ice/Snow', 'Winter Storm')\n"
   ]
  },
  {
   "cell_type": "code",
   "execution_count": 223,
   "metadata": {},
   "outputs": [],
   "source": [
    "df_states['Event Type'] = df_states['Event Type'].replace('Severe Weather - Winter Storm', 'Winter Storm')"
   ]
  },
  {
   "cell_type": "code",
   "execution_count": 224,
   "metadata": {},
   "outputs": [],
   "source": [
    "df_states['Event Type'] = df_states['Event Type'].replace('Severe Weather - Thunderstorms', 'Thunderstorms')"
   ]
  },
  {
   "cell_type": "code",
   "execution_count": 225,
   "metadata": {},
   "outputs": [],
   "source": [
    "df_states['Event Type'] = df_states['Event Type'].replace('Physical Attack - Vandalism', 'Physical Attack')"
   ]
  },
  {
   "cell_type": "code",
   "execution_count": 226,
   "metadata": {},
   "outputs": [],
   "source": [
    "df_states['Event Type'] = df_states['Event Type'].replace('Suspected Physical Attack', 'Physical Attack')"
   ]
  },
  {
   "cell_type": "code",
   "execution_count": 227,
   "metadata": {},
   "outputs": [],
   "source": [
    "df_states['Event Type'] = df_states['Event Type'].replace('Actual Physical Attack', 'Physical Attack')"
   ]
  },
  {
   "cell_type": "code",
   "execution_count": 228,
   "metadata": {},
   "outputs": [],
   "source": [
    "df_states['Event Type'] = df_states['Event Type'].replace('Severe Thunderstorms', 'Thunderstorms')"
   ]
  },
  {
   "cell_type": "code",
   "execution_count": 229,
   "metadata": {},
   "outputs": [],
   "source": [
    "df_states['Event Type'] = df_states['Event Type'].replace('Severe Thunderstorm', 'Thunderstorms')"
   ]
  },
  {
   "cell_type": "code",
   "execution_count": 230,
   "metadata": {},
   "outputs": [],
   "source": [
    "df_states['Event Type'] = df_states['Event Type'].replace('Actual Physical Attack/Vandalism', 'Physical Attack')"
   ]
  },
  {
   "cell_type": "code",
   "execution_count": 231,
   "metadata": {},
   "outputs": [],
   "source": [
    "df_states['Event Type'] = df_states['Event Type'].replace('Physical Attack/Vandalism', 'Physical Attack')"
   ]
  },
  {
   "cell_type": "code",
   "execution_count": 232,
   "metadata": {},
   "outputs": [],
   "source": [
    "df_states['Event Type'] = df_states['Event Type'].replace('Physcial Attack; Vandalism', 'Physical Attack')"
   ]
  },
  {
   "cell_type": "code",
   "execution_count": 233,
   "metadata": {},
   "outputs": [],
   "source": [
    "df_states['Event Type'] = df_states['Event Type'].replace('Sabotage', 'Physical Attack')"
   ]
  },
  {
   "cell_type": "code",
   "execution_count": 234,
   "metadata": {},
   "outputs": [],
   "source": [
    "df_states['Event Type'] = df_states['Event Type'].replace('Suspected Physical Attack - Vandalism', 'Physical Attack')"
   ]
  },
  {
   "cell_type": "code",
   "execution_count": 235,
   "metadata": {},
   "outputs": [],
   "source": [
    "df_states['Event Type'] = df_states['Event Type'].replace('Physical Attack; Vandalism', 'Physical Attack')\n"
   ]
  },
  {
   "cell_type": "code",
   "execution_count": 236,
   "metadata": {},
   "outputs": [],
   "source": [
    "df_states['Event Type'] = df_states['Event Type'].replace('Severe Weather/Distribution Interruption', 'Severe Weather')"
   ]
  },
  {
   "cell_type": "code",
   "execution_count": 237,
   "metadata": {},
   "outputs": [],
   "source": [
    "df_states['Event Type'] = df_states['Event Type'].replace('Severe Weather/Transmission Interruption', 'Severe Weather')"
   ]
  },
  {
   "cell_type": "code",
   "execution_count": 238,
   "metadata": {},
   "outputs": [],
   "source": [
    "df_states['Event Type'] = df_states['Event Type'].replace('High Winds', 'Severe Weather')"
   ]
  },
  {
   "cell_type": "code",
   "execution_count": 239,
   "metadata": {},
   "outputs": [],
   "source": [
    "df_states['Event Type'] = df_states['Event Type'].replace('Wind Storm', 'Severe Weather')"
   ]
  },
  {
   "cell_type": "code",
   "execution_count": 240,
   "metadata": {},
   "outputs": [],
   "source": [
    "df_states['Event Type'] = df_states['Event Type'].replace('Severe Weather - Wind', 'Severe Weather')"
   ]
  },
  {
   "cell_type": "code",
   "execution_count": 241,
   "metadata": {},
   "outputs": [],
   "source": [
    "df_states['Event Type'] = df_states['Event Type'].replace('High Winds and Rain', 'Severe Weather')"
   ]
  },
  {
   "cell_type": "code",
   "execution_count": 242,
   "metadata": {},
   "outputs": [],
   "source": [
    "df_states['Event Type'] = df_states['Event Type'].replace('Severe Weather/Transmisison Interruption', 'Severe Weather')"
   ]
  },
  {
   "cell_type": "code",
   "execution_count": 243,
   "metadata": {},
   "outputs": [],
   "source": [
    "df_states['Event Type'] = df_states['Event Type'].replace('Severe Weather/Transmisison Interruption', 'Severe Weather')"
   ]
  },
  {
   "cell_type": "code",
   "execution_count": 244,
   "metadata": {},
   "outputs": [],
   "source": [
    "df_states['Event Type'] = df_states['Event Type'].replace('- Weather or natural disaster', 'Severe Weather')"
   ]
  },
  {
   "cell_type": "code",
   "execution_count": 245,
   "metadata": {},
   "outputs": [],
   "source": [
    "df_states['Event Type'] = df_states['Event Type'].replace('Severe Storm', 'Severe Weather')"
   ]
  },
  {
   "cell_type": "code",
   "execution_count": 246,
   "metadata": {},
   "outputs": [],
   "source": [
    "df_states['Event Type'] = df_states['Event Type'].replace('Severe Storms', 'Severe Weather')"
   ]
  },
  {
   "cell_type": "code",
   "execution_count": 247,
   "metadata": {},
   "outputs": [],
   "source": [
    "df_states['Event Type'] = df_states['Event Type'].replace('Strong Thunderstorms', 'Thunderstorms')\n"
   ]
  },
  {
   "cell_type": "code",
   "execution_count": 248,
   "metadata": {},
   "outputs": [],
   "source": [
    "df_states['Event Type'] = df_states['Event Type'].replace('Suspected Cyber Attack', 'Cyber Event')\n"
   ]
  },
  {
   "cell_type": "code",
   "execution_count": 249,
   "metadata": {},
   "outputs": [],
   "source": [
    "df_states['Event Type'] = df_states['Event Type'].replace('Severe Weather - Winter', 'Winter Storm')\n"
   ]
  },
  {
   "cell_type": "code",
   "execution_count": 250,
   "metadata": {},
   "outputs": [],
   "source": [
    "df_states['Event Type'] = df_states['Event Type'].replace('Ice/Snow Storm', 'Winter Storm')\n"
   ]
  },
  {
   "cell_type": "code",
   "execution_count": 251,
   "metadata": {},
   "outputs": [],
   "source": [
    "df_states['Event Type'] = df_states['Event Type'].replace('Islanding', 'Electrical System Separation (Islanding)')\n"
   ]
  },
  {
   "cell_type": "code",
   "execution_count": 252,
   "metadata": {},
   "outputs": [],
   "source": [
    "df_states['Event Type'] = df_states['Event Type'].replace('Electrical System Separation', 'Electrical System Separation (Islanding)')\n"
   ]
  },
  {
   "cell_type": "code",
   "execution_count": 253,
   "metadata": {},
   "outputs": [],
   "source": [
    "df_states['Event Type'] = df_states['Event Type'].replace('Voltage Reduction due to Severe Weather - Cold', 'Voltage Reduction')\n"
   ]
  },
  {
   "cell_type": "code",
   "execution_count": 254,
   "metadata": {},
   "outputs": [],
   "source": [
    "df_states['Event Type'] = df_states['Event Type'].replace('Voltage Reduction/Load Shed', 'Voltage Reduction')\n"
   ]
  },
  {
   "cell_type": "code",
   "execution_count": 255,
   "metadata": {},
   "outputs": [],
   "source": [
    "df_states['Event Type'] = df_states['Event Type'].replace('Load Shedding', 'Voltage Reduction')\n"
   ]
  },
  {
   "cell_type": "code",
   "execution_count": 256,
   "metadata": {},
   "outputs": [],
   "source": [
    "df_states['Event Type'] = df_states['Event Type'].replace('Vandalism', 'Physical Attack')\n"
   ]
  },
  {
   "cell_type": "code",
   "execution_count": 257,
   "metadata": {},
   "outputs": [],
   "source": [
    "df_states['Event Type'] = df_states['Event Type'].str.replace(r'.*Hurricane.*', 'Natural Disaster', regex=True)"
   ]
  },
  {
   "cell_type": "code",
   "execution_count": 258,
   "metadata": {},
   "outputs": [],
   "source": [
    "df_states['Event Type'] = df_states['Event Type'].str.replace(r'.*Earthquake.*', 'Natural Disaster', regex=True)\n"
   ]
  },
  {
   "cell_type": "code",
   "execution_count": 259,
   "metadata": {},
   "outputs": [],
   "source": [
    "df_states['Event Type'] = df_states['Event Type'].str.replace(r'.*Winter.*', 'Winter Storm', regex=True)"
   ]
  },
  {
   "cell_type": "code",
   "execution_count": 260,
   "metadata": {},
   "outputs": [],
   "source": [
    "df_states['Event Type'] = df_states['Event Type'].str.replace(r'.*Ice.*', 'Winter Storm', regex=True)"
   ]
  },
  {
   "cell_type": "code",
   "execution_count": 261,
   "metadata": {},
   "outputs": [],
   "source": [
    "df_states['Event Type'] = df_states['Event Type'].str.replace(r'.*Snow.*', 'Winter Storm', regex=True)\n"
   ]
  },
  {
   "cell_type": "code",
   "execution_count": 262,
   "metadata": {},
   "outputs": [],
   "source": [
    "df_states['Event Type'] = df_states['Event Type'].str.replace(r'.*Vandalism.*', 'Physical Attack', regex=True)\n"
   ]
  },
  {
   "cell_type": "code",
   "execution_count": 263,
   "metadata": {},
   "outputs": [],
   "source": [
    "df_states['Event Type'] = df_states['Event Type'].str.replace(r'.*Physical.*', 'Physical Attack', regex=True)\n"
   ]
  },
  {
   "cell_type": "code",
   "execution_count": 264,
   "metadata": {},
   "outputs": [],
   "source": [
    "df_states['Event Type'] = df_states['Event Type'].str.replace(r'.*Generation.*', 'Voltage Reduction', regex=True)"
   ]
  },
  {
   "cell_type": "code",
   "execution_count": 265,
   "metadata": {},
   "outputs": [],
   "source": [
    "df_states['Event Type'] = df_states['Event Type'].str.replace(r'.*Load.*', 'Voltage Reduction', regex=True)"
   ]
  },
  {
   "cell_type": "code",
   "execution_count": 266,
   "metadata": {},
   "outputs": [],
   "source": [
    "df_states['Event Type'] = df_states['Event Type'].str.replace(r'.*Severe.*', 'Severe Weather', regex=True)\n"
   ]
  },
  {
   "cell_type": "code",
   "execution_count": 267,
   "metadata": {},
   "outputs": [],
   "source": [
    "df_states['Event Type'] = df_states['Event Type'].str.replace(r'.*Storm.*', 'Severe Weather', regex=True)\n"
   ]
  },
  {
   "cell_type": "code",
   "execution_count": 268,
   "metadata": {},
   "outputs": [],
   "source": [
    "df_states['Event Type'] = df_states['Event Type'].str.replace(r'.*Storms.*', 'Severe Weather', regex=True)\n"
   ]
  },
  {
   "cell_type": "code",
   "execution_count": 269,
   "metadata": {},
   "outputs": [],
   "source": [
    "df_states['Event Type'] = df_states['Event Type'].str.replace(r'.*Thunderstorm.*', 'Severe Weather', regex=True)\n"
   ]
  },
  {
   "cell_type": "code",
   "execution_count": 270,
   "metadata": {},
   "outputs": [],
   "source": [
    "df_states['Event Type'] = df_states['Event Type'].str.replace(r'.*Winds.*', 'Severe Weather', regex=True)\n"
   ]
  },
  {
   "cell_type": "code",
   "execution_count": 271,
   "metadata": {},
   "outputs": [],
   "source": [
    "df_states['Event Type'] = df_states['Event Type'].str.replace(r'.*Wind.*', 'Severe Weather', regex=True)\n"
   ]
  },
  {
   "cell_type": "code",
   "execution_count": 272,
   "metadata": {},
   "outputs": [],
   "source": [
    "df_states['Event Type'] = df_states['Event Type'].str.replace(r'.*Islanding.*', 'Electrical System Separation (Islanding)', regex=True)\n"
   ]
  },
  {
   "cell_type": "code",
   "execution_count": 273,
   "metadata": {},
   "outputs": [],
   "source": [
    "df_states['Event Type'] = df_states['Event Type'].str.replace(r'.*Suspicious.*', 'Suspicious Activity', regex=True)\n"
   ]
  },
  {
   "cell_type": "code",
   "execution_count": 274,
   "metadata": {},
   "outputs": [],
   "source": [
    "df_states['Event Type'] = df_states['Event Type'].str.replace(r'.*Cyber.*', 'Cyber Event', regex=True)\n"
   ]
  },
  {
   "cell_type": "code",
   "execution_count": 275,
   "metadata": {},
   "outputs": [],
   "source": [
    "df_states['Event Type'] = df_states['Event Type'].str.replace(r'.*Fuel.*', 'Fuel Supply Deficiency', regex=True)\n"
   ]
  },
  {
   "cell_type": "code",
   "execution_count": 276,
   "metadata": {},
   "outputs": [],
   "source": [
    "df_states['Event Type'] = df_states['Event Type'].str.replace(r'.*Voltage.*', 'Voltage Reduction', regex=True)\n"
   ]
  },
  {
   "cell_type": "code",
   "execution_count": 277,
   "metadata": {},
   "outputs": [],
   "source": [
    "df_states['Event Type'] = df_states['Event Type'].str.replace(r'.*Failure.*', 'Equipment Failure', regex=True)\n"
   ]
  },
  {
   "cell_type": "code",
   "execution_count": 278,
   "metadata": {},
   "outputs": [],
   "source": [
    "df_states['Event Type'] = df_states['Event Type'].str.replace(r'.*Malfunction.*', 'Equipment Failure', regex=True)\n"
   ]
  },
  {
   "cell_type": "code",
   "execution_count": 279,
   "metadata": {},
   "outputs": [],
   "source": [
    "df_states['Event Type'] = df_states['Event Type'].str.replace(r'.*Interruption.*', 'Transmission Interruption', regex=True)\n"
   ]
  },
  {
   "cell_type": "code",
   "execution_count": 280,
   "metadata": {},
   "outputs": [],
   "source": [
    "df_states['Event Type'] = df_states['Event Type'].str.replace(r'.*Public.*', 'Public Appeals', regex=True)"
   ]
  },
  {
   "cell_type": "code",
   "execution_count": 281,
   "metadata": {},
   "outputs": [],
   "source": [
    "df_states['Event Type'] = df_states['Event Type'].str.replace(r'.*Weather.*', 'Severe Weather', regex=True)\n"
   ]
  },
  {
   "cell_type": "code",
   "execution_count": 282,
   "metadata": {},
   "outputs": [],
   "source": [
    "df_states['Event Type'] = df_states['Event Type'].str.replace(r'.*Tornado.*', 'Natural Disaster', regex=True)\n"
   ]
  },
  {
   "cell_type": "code",
   "execution_count": 283,
   "metadata": {},
   "outputs": [],
   "source": [
    "df_states['Event Type'] = df_states['Event Type'].str.replace(r'.*Attack.*', 'Physical Attack', regex=True)\n"
   ]
  },
  {
   "cell_type": "code",
   "execution_count": 284,
   "metadata": {},
   "outputs": [],
   "source": [
    "df_states['Event Type'] = df_states['Event Type'].str.replace(r'.*attack.*', 'Physical Attack', regex=True)\n"
   ]
  },
  {
   "cell_type": "code",
   "execution_count": 285,
   "metadata": {},
   "outputs": [],
   "source": [
    "df_states['Event Type'] = df_states['Event Type'].str.replace(r'.*Lightning.*', 'Severe Weather', regex=True)\n"
   ]
  },
  {
   "cell_type": "code",
   "execution_count": 286,
   "metadata": {},
   "outputs": [],
   "source": [
    "df_states['Event Type'] = df_states['Event Type'].str.replace(r'.*Vandalsim.*', 'Physical Attack', regex=True)\n"
   ]
  },
  {
   "cell_type": "code",
   "execution_count": 287,
   "metadata": {},
   "outputs": [],
   "source": [
    "df_states['Event Type'] = df_states['Event Type'].str.replace(r'.*Sabotage.*', 'Physical Attack', regex=True)\n"
   ]
  },
  {
   "cell_type": "code",
   "execution_count": 288,
   "metadata": {},
   "outputs": [],
   "source": [
    "df_states['Event Type'] = df_states['Event Type'].str.replace(r'.*Tripped.*', 'Unit Tripped', regex=True)\n"
   ]
  },
  {
   "cell_type": "code",
   "execution_count": 289,
   "metadata": {},
   "outputs": [],
   "source": [
    "df_states['Event Type'] = df_states['Event Type'].str.replace(r'.*Fire.*', 'Fire', regex=True)"
   ]
  },
  {
   "cell_type": "code",
   "execution_count": 290,
   "metadata": {},
   "outputs": [],
   "source": [
    "df_states['Event Type'] = df_states['Event Type'].str.replace(r'.*Equipment.*', 'Equipment Failure', regex=True)\n"
   ]
  },
  {
   "cell_type": "code",
   "execution_count": 291,
   "metadata": {},
   "outputs": [],
   "source": [
    "df_states['Event Type'] = df_states['Event Type'].str.replace(r'.*equipment.*', 'Equipment Failure', regex=True)\n"
   ]
  },
  {
   "cell_type": "code",
   "execution_count": 292,
   "metadata": {},
   "outputs": [],
   "source": [
    "df_states['Event Type'] = df_states['Event Type'].str.replace(r'.*Fault.*', 'Equipment Failure', regex=True)\n"
   ]
  },
  {
   "cell_type": "code",
   "execution_count": 293,
   "metadata": {},
   "outputs": [],
   "source": [
    "df_states['Event Type'] = df_states['Event Type'].str.replace(r'.*Transmission.*', 'Transmission Interruption', regex=True)\n"
   ]
  },
  {
   "cell_type": "code",
   "execution_count": 294,
   "metadata": {},
   "outputs": [],
   "source": [
    "df_states['Event Type'] = df_states['Event Type'].str.replace(r'.*Flood.*', 'Natural Disaster', regex=True)\n"
   ]
  },
  {
   "cell_type": "code",
   "execution_count": 295,
   "metadata": {},
   "outputs": [],
   "source": [
    "df_states['Event Type'] = df_states['Event Type'].str.replace(r'.*Fire.*', 'Natural Disaster', regex=True)\n"
   ]
  },
  {
   "cell_type": "code",
   "execution_count": 296,
   "metadata": {},
   "outputs": [],
   "source": [
    "df_states['Event Type'] = df_states['Event Type'].str.replace(r'.*Heat.*', 'Severe Weather', regex=True)"
   ]
  },
  {
   "cell_type": "code",
   "execution_count": 297,
   "metadata": {},
   "outputs": [],
   "source": [
    "df_states['Event Type'] = df_states['Event Type'].str.replace(r'.*Deficiency.*', 'Fuel Supply Deficiency', regex=True)"
   ]
  },
  {
   "cell_type": "code",
   "execution_count": 298,
   "metadata": {},
   "outputs": [],
   "source": [
    "df_states['Event Type'] = df_states['Event Type'].str.replace(r'.*Unit.*', 'Unit Tripped', regex=True)"
   ]
  },
  {
   "cell_type": "code",
   "execution_count": 299,
   "metadata": {},
   "outputs": [],
   "source": [
    "df_states['Event Type'] = df_states['Event Type'].str.replace(r'.*Unknown.*', 'Other', regex=True)"
   ]
  },
  {
   "cell_type": "code",
   "execution_count": 300,
   "metadata": {},
   "outputs": [],
   "source": [
    "df_states['Event Type'] = df_states['Event Type'].str.replace(r'.*Electric.*', 'Electrical System Separation (Islanding)', regex=True)"
   ]
  },
  {
   "cell_type": "code",
   "execution_count": 301,
   "metadata": {},
   "outputs": [],
   "source": [
    "df_states['Event Type'] = df_states['Event Type'].str.replace(r'.*Highwinds.*', 'Severe Weather', regex=True)"
   ]
  },
  {
   "cell_type": "code",
   "execution_count": 302,
   "metadata": {},
   "outputs": [],
   "source": [
    "df_states['Event Type'] = df_states['Event Type'].str.replace(r'.*reductions.*', 'Voltage Reduction', regex=True)"
   ]
  },
  {
   "cell_type": "code",
   "execution_count": 303,
   "metadata": {},
   "outputs": [],
   "source": [
    "df_states['Event Type'] = df_states['Event Type'].str.replace(r'.*Resources.*', 'Fuel Supply Deficiency', regex=True)"
   ]
  },
  {
   "cell_type": "code",
   "execution_count": 304,
   "metadata": {},
   "outputs": [],
   "source": [
    "df_states['Event Type'] = df_states['Event Type'].str.replace(r'.*Wildfire.*', 'Natural Disaster', regex=True)"
   ]
  },
  {
   "cell_type": "code",
   "execution_count": 305,
   "metadata": {},
   "outputs": [],
   "source": [
    "df_states['Event Type'] = df_states['Event Type'].str.replace(r'.*Tropical.*', 'Natural Disaster', regex=True)"
   ]
  },
  {
   "cell_type": "code",
   "execution_count": 306,
   "metadata": {},
   "outputs": [],
   "source": [
    "counts = df_states['Event Type'].value_counts()\n",
    "mask = df_states['Event Type'].isin(counts[counts == 1].index)\n",
    "df_states.loc[mask, 'Event Type'] = 'Other'"
   ]
  },
  {
   "cell_type": "code",
   "execution_count": 307,
   "metadata": {},
   "outputs": [
    {
     "data": {
      "text/plain": [
       "Severe Weather                              1089\n",
       "Physical Attack                              710\n",
       "System Operations                            305\n",
       "Transmission Interruption                    159\n",
       "Suspicious Activity                          106\n",
       "Fuel Supply Deficiency                        83\n",
       "Voltage Reduction                             73\n",
       "Electrical System Separation (Islanding)      50\n",
       "Public Appeals                                49\n",
       "Natural Disaster                              38\n",
       "Cyber Event                                   28\n",
       "Equipment Failure                             13\n",
       "Other                                         11\n",
       "Event Type                                     7\n",
       "Type of Disturbance                            3\n",
       "Unit Tripped                                   2\n",
       "Name: Event Type, dtype: int64"
      ]
     },
     "execution_count": 307,
     "metadata": {},
     "output_type": "execute_result"
    }
   ],
   "source": [
    "df_states['Event Type'].value_counts()"
   ]
  },
  {
   "cell_type": "code",
   "execution_count": 308,
   "metadata": {},
   "outputs": [
    {
     "data": {
      "text/plain": [
       "Date Event Began                datetime64[ns]\n",
       "NERC Region                             object\n",
       "Area Affected                           object\n",
       "Event Type                              object\n",
       "Demand Loss (MW)                        object\n",
       "Number of Customers Affected            object\n",
       "Date of Restoration             datetime64[ns]\n",
       "Time Event Began                        object\n",
       "Time of Restoration                     object\n",
       "Month                                   object\n",
       "Alert Criteria                          object\n",
       "State Names                             object\n",
       "dtype: object"
      ]
     },
     "execution_count": 308,
     "metadata": {},
     "output_type": "execute_result"
    }
   ],
   "source": [
    "df_states.dtypes\n",
    "# df_states.head(30)"
   ]
  },
  {
   "cell_type": "code",
   "execution_count": 310,
   "metadata": {},
   "outputs": [
    {
     "data": {
      "text/plain": [
       "0          606\n",
       "Unknown    440\n",
       "0          260\n",
       "UNK         26\n",
       "50000       20\n",
       "          ... \n",
       "6549         1\n",
       "324000       1\n",
       "180400       1\n",
       "67300        1\n",
       "115830       1\n",
       "Name: Number of Customers Affected, Length: 914, dtype: int64"
      ]
     },
     "execution_count": 310,
     "metadata": {},
     "output_type": "execute_result"
    }
   ],
   "source": [
    "df_states['Number of Customers Affected'].value_counts()"
   ]
  },
  {
   "cell_type": "code",
   "execution_count": 311,
   "metadata": {},
   "outputs": [
    {
     "name": "stdout",
     "output_type": "stream",
     "text": [
      "0        True\n",
      "1        True\n",
      "2        True\n",
      "3       False\n",
      "4       False\n",
      "        ...  \n",
      "2798    False\n",
      "2799    False\n",
      "2800    False\n",
      "2801    False\n",
      "2802    False\n",
      "Name: Number of Customers Affected, Length: 2803, dtype: bool\n"
     ]
    }
   ],
   "source": [
    "df_states['Number of Customers Affected'].replace([\"UNK\", \"-\"], \"Unknown\", inplace=True)"
   ]
  },
  {
   "cell_type": "code",
   "execution_count": 312,
   "metadata": {},
   "outputs": [
    {
     "data": {
      "text/plain": [
       "0          606\n",
       "Unknown    466\n",
       "0          260\n",
       "50000       20\n",
       "1           11\n",
       "          ... \n",
       "6549         1\n",
       "324000       1\n",
       "180400       1\n",
       "67300        1\n",
       "115830       1\n",
       "Name: Number of Customers Affected, Length: 913, dtype: int64"
      ]
     },
     "execution_count": 312,
     "metadata": {},
     "output_type": "execute_result"
    }
   ],
   "source": [
    "df_states['Number of Customers Affected'].value_counts()"
   ]
  }
 ],
 "metadata": {
  "kernelspec": {
   "display_name": "base",
   "language": "python",
   "name": "python3"
  },
  "language_info": {
   "codemirror_mode": {
    "name": "ipython",
    "version": 3
   },
   "file_extension": ".py",
   "mimetype": "text/x-python",
   "name": "python",
   "nbconvert_exporter": "python",
   "pygments_lexer": "ipython3",
   "version": "3.9.7"
  }
 },
 "nbformat": 4,
 "nbformat_minor": 2
}
