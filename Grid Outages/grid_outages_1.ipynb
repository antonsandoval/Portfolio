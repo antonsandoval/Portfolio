{
 "cells": [
  {
   "cell_type": "code",
   "execution_count": 341,
   "metadata": {},
   "outputs": [],
   "source": [
    "import pandas as pd\n",
    "import numpy as np\n",
    "import matplotlib.pyplot as plt"
   ]
  },
  {
   "cell_type": "code",
   "execution_count": 342,
   "metadata": {},
   "outputs": [
    {
     "data": {
      "text/html": [
       "<div>\n",
       "<style scoped>\n",
       "    .dataframe tbody tr th:only-of-type {\n",
       "        vertical-align: middle;\n",
       "    }\n",
       "\n",
       "    .dataframe tbody tr th {\n",
       "        vertical-align: top;\n",
       "    }\n",
       "\n",
       "    .dataframe thead th {\n",
       "        text-align: right;\n",
       "    }\n",
       "</style>\n",
       "<table border=\"1\" class=\"dataframe\">\n",
       "  <thead>\n",
       "    <tr style=\"text-align: right;\">\n",
       "      <th></th>\n",
       "      <th>Date Event Began</th>\n",
       "      <th>NERC Region</th>\n",
       "      <th>Event Type</th>\n",
       "      <th>Demand Loss (MW)</th>\n",
       "      <th>Customers Affected</th>\n",
       "      <th>State Names</th>\n",
       "    </tr>\n",
       "  </thead>\n",
       "  <tbody>\n",
       "    <tr>\n",
       "      <th>0</th>\n",
       "      <td>2010-01-06</td>\n",
       "      <td>SERC</td>\n",
       "      <td>Public Appeals</td>\n",
       "      <td>NaN</td>\n",
       "      <td>0</td>\n",
       "      <td>Louisiana</td>\n",
       "    </tr>\n",
       "    <tr>\n",
       "      <th>1</th>\n",
       "      <td>2010-01-11</td>\n",
       "      <td>FRCC/SERC</td>\n",
       "      <td>Voltage Reduction</td>\n",
       "      <td>NaN</td>\n",
       "      <td>0</td>\n",
       "      <td>Florida</td>\n",
       "    </tr>\n",
       "    <tr>\n",
       "      <th>2</th>\n",
       "      <td>2010-01-18</td>\n",
       "      <td>WECC</td>\n",
       "      <td>Severe Weather</td>\n",
       "      <td>290</td>\n",
       "      <td>1700000</td>\n",
       "      <td>California</td>\n",
       "    </tr>\n",
       "    <tr>\n",
       "      <th>3</th>\n",
       "      <td>2010-01-19</td>\n",
       "      <td>WECC</td>\n",
       "      <td>Severe Weather</td>\n",
       "      <td>300</td>\n",
       "      <td>30000</td>\n",
       "      <td>Unknown</td>\n",
       "    </tr>\n",
       "    <tr>\n",
       "      <th>4</th>\n",
       "      <td>2010-01-19</td>\n",
       "      <td>WECC</td>\n",
       "      <td>Severe Weather</td>\n",
       "      <td>2650</td>\n",
       "      <td>50000</td>\n",
       "      <td>Unknown</td>\n",
       "    </tr>\n",
       "    <tr>\n",
       "      <th>...</th>\n",
       "      <td>...</td>\n",
       "      <td>...</td>\n",
       "      <td>...</td>\n",
       "      <td>...</td>\n",
       "      <td>...</td>\n",
       "      <td>...</td>\n",
       "    </tr>\n",
       "    <tr>\n",
       "      <th>3268</th>\n",
       "      <td>2023-06-29</td>\n",
       "      <td>RF</td>\n",
       "      <td>Severe Weather</td>\n",
       "      <td>Unknown</td>\n",
       "      <td>140000</td>\n",
       "      <td>Indiana</td>\n",
       "    </tr>\n",
       "    <tr>\n",
       "      <th>3269</th>\n",
       "      <td>2023-06-28</td>\n",
       "      <td>SERC</td>\n",
       "      <td>Physical Attack</td>\n",
       "      <td>0</td>\n",
       "      <td>0</td>\n",
       "      <td>Georgia</td>\n",
       "    </tr>\n",
       "    <tr>\n",
       "      <th>3270</th>\n",
       "      <td>2023-06-22</td>\n",
       "      <td>SERC</td>\n",
       "      <td>Equipment Failure</td>\n",
       "      <td>17</td>\n",
       "      <td>6242</td>\n",
       "      <td>Louisiana</td>\n",
       "    </tr>\n",
       "    <tr>\n",
       "      <th>3271</th>\n",
       "      <td>2023-06-20</td>\n",
       "      <td>SERC</td>\n",
       "      <td>Equipment Failure</td>\n",
       "      <td>0</td>\n",
       "      <td>0</td>\n",
       "      <td>Louisiana</td>\n",
       "    </tr>\n",
       "    <tr>\n",
       "      <th>3272</th>\n",
       "      <td>2023-06-30</td>\n",
       "      <td>NPCC</td>\n",
       "      <td>Other</td>\n",
       "      <td>0</td>\n",
       "      <td>0</td>\n",
       "      <td>Connecticut</td>\n",
       "    </tr>\n",
       "  </tbody>\n",
       "</table>\n",
       "<p>3273 rows × 6 columns</p>\n",
       "</div>"
      ],
      "text/plain": [
       "     Date Event Began NERC Region         Event Type Demand Loss (MW)  \\\n",
       "0          2010-01-06       SERC      Public Appeals              NaN   \n",
       "1          2010-01-11  FRCC/SERC   Voltage Reduction              NaN   \n",
       "2          2010-01-18       WECC      Severe Weather              290   \n",
       "3          2010-01-19       WECC      Severe Weather              300   \n",
       "4          2010-01-19       WECC      Severe Weather             2650   \n",
       "...               ...         ...                ...              ...   \n",
       "3268       2023-06-29          RF     Severe Weather          Unknown   \n",
       "3269       2023-06-28        SERC    Physical Attack                0   \n",
       "3270       2023-06-22        SERC  Equipment Failure               17   \n",
       "3271       2023-06-20        SERC  Equipment Failure                0   \n",
       "3272       2023-06-30        NPCC              Other                0   \n",
       "\n",
       "     Customers Affected  State Names  \n",
       "0                     0    Louisiana  \n",
       "1                     0      Florida  \n",
       "2               1700000   California  \n",
       "3                 30000      Unknown  \n",
       "4                 50000      Unknown  \n",
       "...                 ...          ...  \n",
       "3268             140000      Indiana  \n",
       "3269                  0      Georgia  \n",
       "3270               6242    Louisiana  \n",
       "3271                  0    Louisiana  \n",
       "3272                  0  Connecticut  \n",
       "\n",
       "[3273 rows x 6 columns]"
      ]
     },
     "execution_count": 342,
     "metadata": {},
     "output_type": "execute_result"
    }
   ],
   "source": [
    "cleaned = pd.read_excel('grid_cleaned_1.xlsx')\n",
    "cleaned"
   ]
  },
  {
   "cell_type": "code",
   "execution_count": 343,
   "metadata": {},
   "outputs": [],
   "source": [
    "cleaned['NERC Region'] = cleaned['NERC Region'].str.replace(r'\\s', '', regex=True)"
   ]
  },
  {
   "cell_type": "code",
   "execution_count": 344,
   "metadata": {},
   "outputs": [],
   "source": [
    "cleaned.drop(cleaned[cleaned['NERC Region'] == 'PR'].index, inplace=True)"
   ]
  },
  {
   "cell_type": "code",
   "execution_count": 345,
   "metadata": {},
   "outputs": [],
   "source": [
    "cleaned['NERC Region'].replace(\"SPPRE\", \"SPP\", inplace=True)"
   ]
  },
  {
   "cell_type": "code",
   "execution_count": 346,
   "metadata": {},
   "outputs": [],
   "source": [
    "cleaned['NERC Region'].replace(\"NP\", \"NPCC\", inplace=True)"
   ]
  },
  {
   "cell_type": "code",
   "execution_count": 347,
   "metadata": {},
   "outputs": [],
   "source": [
    "cleaned['NERC Region'].replace(\"NP\", \"NPCC\", inplace=True)"
   ]
  },
  {
   "cell_type": "code",
   "execution_count": 348,
   "metadata": {},
   "outputs": [],
   "source": [
    "cleaned['NERC Region'].replace(\"TE\", \"TRE\", inplace=True)"
   ]
  },
  {
   "cell_type": "markdown",
   "metadata": {},
   "source": [
    "RFC - ReliabilityFirst Corporation\n",
    "\n",
    "NPCC - Northeast Power Coordinating Council\n",
    "\n",
    "SERC - SERC Reliability Corporation\n",
    "\n",
    "FRCC - Florida Reliability Coordinating Council\n",
    "\n",
    "MRO - Midwest Reliability Organization\n",
    "\n",
    "SPP - Southwest Power Pool\n",
    "\n",
    "WECC - Western Electricity Coordinating Council\n",
    "\n",
    "TRE - Texas Reliability Entity"
   ]
  },
  {
   "cell_type": "code",
   "execution_count": 349,
   "metadata": {},
   "outputs": [],
   "source": [
    "# Split the column based on the delimiter and keep only the part before the delimiter\n",
    "cleaned['NERC Region'] = cleaned['NERC Region'].str.split('/').str[0]"
   ]
  },
  {
   "cell_type": "code",
   "execution_count": 350,
   "metadata": {},
   "outputs": [],
   "source": [
    "cleaned['NERC Region'] = cleaned['NERC Region'].str.split(',').str[0]"
   ]
  },
  {
   "cell_type": "code",
   "execution_count": 351,
   "metadata": {},
   "outputs": [],
   "source": [
    "cleaned['NERC Region'] = cleaned['NERC Region'].str.split(';').str[0]"
   ]
  },
  {
   "cell_type": "code",
   "execution_count": 352,
   "metadata": {},
   "outputs": [],
   "source": [
    "cleaned['NERC Region'].replace(\"RF\", \"RFC\", inplace=True)"
   ]
  },
  {
   "cell_type": "code",
   "execution_count": 353,
   "metadata": {},
   "outputs": [],
   "source": [
    "cleaned['NERC Region'].replace(\"RE\", \"RFC\", inplace=True)"
   ]
  },
  {
   "cell_type": "code",
   "execution_count": 354,
   "metadata": {},
   "outputs": [],
   "source": [
    "cleaned['NERC Region'].replace(\"ERCOT\", \"TRE\", inplace=True)"
   ]
  },
  {
   "cell_type": "code",
   "execution_count": 355,
   "metadata": {},
   "outputs": [
    {
     "data": {
      "text/plain": [
       "WECC    974\n",
       "RFC     636\n",
       "SERC    618\n",
       "TRE     343\n",
       "NPCC    326\n",
       "MRO     201\n",
       "SPP     105\n",
       "FRCC     42\n",
       "Name: NERC Region, dtype: int64"
      ]
     },
     "execution_count": 355,
     "metadata": {},
     "output_type": "execute_result"
    }
   ],
   "source": [
    "# cleaned['NERC Region'].value_counts().head(40)\n",
    "cleaned['NERC Region'].value_counts()"
   ]
  },
  {
   "cell_type": "code",
   "execution_count": 356,
   "metadata": {},
   "outputs": [],
   "source": [
    "cleaned['Demand Loss (MW)'] = pd.to_numeric(cleaned['Demand Loss (MW)'], errors='coerce')"
   ]
  },
  {
   "cell_type": "code",
   "execution_count": 357,
   "metadata": {},
   "outputs": [],
   "source": [
    "cleaned['Customers Affected'] = pd.to_numeric(cleaned['Customers Affected'], errors='coerce')"
   ]
  },
  {
   "cell_type": "code",
   "execution_count": 358,
   "metadata": {},
   "outputs": [
    {
     "data": {
      "text/html": [
       "<div>\n",
       "<style scoped>\n",
       "    .dataframe tbody tr th:only-of-type {\n",
       "        vertical-align: middle;\n",
       "    }\n",
       "\n",
       "    .dataframe tbody tr th {\n",
       "        vertical-align: top;\n",
       "    }\n",
       "\n",
       "    .dataframe thead th {\n",
       "        text-align: right;\n",
       "    }\n",
       "</style>\n",
       "<table border=\"1\" class=\"dataframe\">\n",
       "  <thead>\n",
       "    <tr style=\"text-align: right;\">\n",
       "      <th></th>\n",
       "      <th>Date Event Began</th>\n",
       "      <th>NERC Region</th>\n",
       "      <th>Event Type</th>\n",
       "      <th>Demand Loss (MW)</th>\n",
       "      <th>Customers Affected</th>\n",
       "      <th>State Names</th>\n",
       "    </tr>\n",
       "  </thead>\n",
       "  <tbody>\n",
       "    <tr>\n",
       "      <th>0</th>\n",
       "      <td>2010-01-06</td>\n",
       "      <td>SERC</td>\n",
       "      <td>Public Appeals</td>\n",
       "      <td>NaN</td>\n",
       "      <td>0.0</td>\n",
       "      <td>Louisiana</td>\n",
       "    </tr>\n",
       "    <tr>\n",
       "      <th>1</th>\n",
       "      <td>2010-01-11</td>\n",
       "      <td>FRCC</td>\n",
       "      <td>Voltage Reduction</td>\n",
       "      <td>NaN</td>\n",
       "      <td>0.0</td>\n",
       "      <td>Florida</td>\n",
       "    </tr>\n",
       "    <tr>\n",
       "      <th>2</th>\n",
       "      <td>2010-01-18</td>\n",
       "      <td>WECC</td>\n",
       "      <td>Severe Weather</td>\n",
       "      <td>290.0</td>\n",
       "      <td>1700000.0</td>\n",
       "      <td>California</td>\n",
       "    </tr>\n",
       "    <tr>\n",
       "      <th>3</th>\n",
       "      <td>2010-01-19</td>\n",
       "      <td>WECC</td>\n",
       "      <td>Severe Weather</td>\n",
       "      <td>300.0</td>\n",
       "      <td>30000.0</td>\n",
       "      <td>Unknown</td>\n",
       "    </tr>\n",
       "    <tr>\n",
       "      <th>4</th>\n",
       "      <td>2010-01-19</td>\n",
       "      <td>WECC</td>\n",
       "      <td>Severe Weather</td>\n",
       "      <td>2650.0</td>\n",
       "      <td>50000.0</td>\n",
       "      <td>Unknown</td>\n",
       "    </tr>\n",
       "  </tbody>\n",
       "</table>\n",
       "</div>"
      ],
      "text/plain": [
       "  Date Event Began NERC Region         Event Type  Demand Loss (MW)  \\\n",
       "0       2010-01-06        SERC     Public Appeals               NaN   \n",
       "1       2010-01-11        FRCC  Voltage Reduction               NaN   \n",
       "2       2010-01-18        WECC     Severe Weather             290.0   \n",
       "3       2010-01-19        WECC     Severe Weather             300.0   \n",
       "4       2010-01-19        WECC     Severe Weather            2650.0   \n",
       "\n",
       "   Customers Affected State Names  \n",
       "0                 0.0   Louisiana  \n",
       "1                 0.0     Florida  \n",
       "2           1700000.0  California  \n",
       "3             30000.0     Unknown  \n",
       "4             50000.0     Unknown  "
      ]
     },
     "execution_count": 358,
     "metadata": {},
     "output_type": "execute_result"
    }
   ],
   "source": [
    "cleaned.head()"
   ]
  },
  {
   "cell_type": "code",
   "execution_count": 359,
   "metadata": {},
   "outputs": [],
   "source": [
    "cleaned.to_excel('grid_cleaned_3.xlsx')"
   ]
  }
 ],
 "metadata": {
  "kernelspec": {
   "display_name": "base",
   "language": "python",
   "name": "python3"
  },
  "language_info": {
   "codemirror_mode": {
    "name": "ipython",
    "version": 3
   },
   "file_extension": ".py",
   "mimetype": "text/x-python",
   "name": "python",
   "nbconvert_exporter": "python",
   "pygments_lexer": "ipython3",
   "version": "3.9.7"
  }
 },
 "nbformat": 4,
 "nbformat_minor": 2
}
